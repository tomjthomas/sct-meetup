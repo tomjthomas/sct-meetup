{
  "nbformat": 4,
  "nbformat_minor": 0,
  "metadata": {
    "colab": {
      "name": "assignment.ipynb",
      "version": "0.3.2",
      "provenance": [],
      "toc_visible": true
    },
    "kernelspec": {
      "display_name": "Python [conda env:pytorch]",
      "language": "python",
      "name": "conda-env-pytorch-py"
    }
  },
  "cells": [
    {
      "metadata": {
        "id": "IvB4np_skarW",
        "colab_type": "text"
      },
      "cell_type": "markdown",
      "source": [
        "### Assignment - Intro to Python and Data Structures\n",
        "The assignment is for students to get a feel of the lesson discussed this week. You are free to ask any doubts regarding working out any questions in the group. Also, updating the worked out notebook on Github is very much engaged, be sure to mention School of AI, Trivandrum. Additional recognition for students who document the work using *markdown*."
      ]
    },
    {
      "metadata": {
        "id": "Q1F4rPuEkare",
        "colab_type": "text"
      },
      "cell_type": "markdown",
      "source": [
        "##### 1) Read the contents of test.csv "
      ]
    },
    {
      "metadata": {
        "id": "HO2a7kGAkarh",
        "colab_type": "code",
        "colab": {
          "base_uri": "https://localhost:8080/",
          "height": 2040
        },
        "outputId": "e83d9fc5-f352-4398-f302-50210f439351"
      },
      "cell_type": "code",
      "source": [
        "with open('test.csv', 'r') as file: \n",
        "    test=file.read()\n",
        "file.close()\n",
        "data_split=list()\n",
        "data=test.split('\\n')\n",
        "for i in data:\n",
        "  i=i.split(',')\n",
        "  data_split.append(i)\n",
        "data_clean=dict.fromkeys(data_split[0],list())\n",
        "for i in range(len(data_split[0])):\n",
        "  temp=list()\n",
        "  for row in data_split[1:]:\n",
        "    temp.append(row[i])\n",
        "  data_clean[data_split[0][i]]=temp\n",
        "    \n",
        "display(data_clean)\n"
      ],
      "execution_count": 90,
      "outputs": [
        {
          "output_type": "display_data",
          "data": {
            "text/plain": [
              "{'ApplicantIncome': [],\n",
              " 'Education': [],\n",
              " 'Gender': [],\n",
              " 'LoanAmount': [],\n",
              " 'Loan_ID': [],\n",
              " 'Married': [],\n",
              " 'Property_Area': []}"
            ]
          },
          "metadata": {
            "tags": []
          }
        },
        {
          "output_type": "display_data",
          "data": {
            "text/plain": [
              "{'ApplicantIncome': ['5720',\n",
              "  '3076',\n",
              "  '5000',\n",
              "  '2340',\n",
              "  '3276',\n",
              "  '2165',\n",
              "  '2226',\n",
              "  '3881',\n",
              "  '13633',\n",
              "  '2400',\n",
              "  '3091',\n",
              "  '2185',\n",
              "  '4166',\n",
              "  '12173',\n",
              "  '4666',\n",
              "  '5667'],\n",
              " 'Education': ['Graduate',\n",
              "  'Graduate',\n",
              "  'Graduate',\n",
              "  'Graduate',\n",
              "  'Not Graduate',\n",
              "  'Not Graduate',\n",
              "  'Not Graduate',\n",
              "  'Not Graduate',\n",
              "  'Graduate',\n",
              "  'Not Graduate',\n",
              "  'Not Graduate',\n",
              "  'Graduate',\n",
              "  'Graduate',\n",
              "  'Graduate',\n",
              "  'Graduate',\n",
              "  'Graduate'],\n",
              " 'Gender': ['Male',\n",
              "  'Male',\n",
              "  'Male',\n",
              "  'Male',\n",
              "  'Male',\n",
              "  'Male',\n",
              "  'Female',\n",
              "  'Male',\n",
              "  'Male',\n",
              "  'Male',\n",
              "  'Male',\n",
              "  'Male',\n",
              "  'Male',\n",
              "  'Male',\n",
              "  'Female',\n",
              "  'Male'],\n",
              " 'LoanAmount': ['110',\n",
              "  '126',\n",
              "  '208',\n",
              "  '100',\n",
              "  '78',\n",
              "  '152',\n",
              "  '59',\n",
              "  '147',\n",
              "  '280',\n",
              "  '123',\n",
              "  '90',\n",
              "  '162',\n",
              "  '40',\n",
              "  '166',\n",
              "  '124',\n",
              "  '131'],\n",
              " 'Loan_ID': ['LP001015',\n",
              "  'LP001022',\n",
              "  'LP001031',\n",
              "  'LP001035',\n",
              "  'LP001051',\n",
              "  'LP001054',\n",
              "  'LP001055',\n",
              "  'LP001056',\n",
              "  'LP001059',\n",
              "  'LP001067',\n",
              "  'LP001078',\n",
              "  'LP001082',\n",
              "  'LP001083',\n",
              "  'LP001094',\n",
              "  'LP001096',\n",
              "  'LP001099'],\n",
              " 'Married': ['Yes',\n",
              "  'Yes',\n",
              "  'Yes',\n",
              "  'Yes',\n",
              "  'No',\n",
              "  'Yes',\n",
              "  'No',\n",
              "  'Yes',\n",
              "  'Yes',\n",
              "  'No',\n",
              "  'No',\n",
              "  'Yes',\n",
              "  'No',\n",
              "  'Yes',\n",
              "  'No',\n",
              "  'No'],\n",
              " 'Property_Area': ['Urban',\n",
              "  'Urban',\n",
              "  'Urban',\n",
              "  'Urban',\n",
              "  'Urban',\n",
              "  'Urban',\n",
              "  'Semiurban',\n",
              "  'Rural',\n",
              "  'Urban',\n",
              "  'Semiurban',\n",
              "  'Urban',\n",
              "  'Semiurban',\n",
              "  'Urban',\n",
              "  'Semiurban',\n",
              "  'Semiurban',\n",
              "  'Urban']}"
            ]
          },
          "metadata": {
            "tags": []
          }
        }
      ]
    },
    {
      "metadata": {
        "id": "y70gT-khkarx",
        "colab_type": "text"
      },
      "cell_type": "markdown",
      "source": [
        "##### 2) Replace the *Graduate* and *Not Graduate* in the Education column by 1 and 0 respectively"
      ]
    },
    {
      "metadata": {
        "id": "__FvVId3kar1",
        "colab_type": "code",
        "colab": {
          "base_uri": "https://localhost:8080/",
          "height": 1666
        },
        "outputId": "2d539f84-dbc2-48dc-83e3-ecaf8474ad6b"
      },
      "cell_type": "code",
      "source": [
        "temp=data_clean['Education']\n",
        "for i,edu in enumerate(temp):\n",
        "  if edu == 'Graduate':\n",
        "    temp[i]=1\n",
        "  elif edu == 'Not Graduate':\n",
        "    temp[i]=0\n",
        "display(data_clean)\n",
        "    "
      ],
      "execution_count": 94,
      "outputs": [
        {
          "output_type": "display_data",
          "data": {
            "text/plain": [
              "{'ApplicantIncome': ['5720',\n",
              "  '3076',\n",
              "  '5000',\n",
              "  '2340',\n",
              "  '3276',\n",
              "  '2165',\n",
              "  '2226',\n",
              "  '3881',\n",
              "  '13633',\n",
              "  '2400',\n",
              "  '3091',\n",
              "  '2185',\n",
              "  '4166',\n",
              "  '12173',\n",
              "  '4666',\n",
              "  '5667'],\n",
              " 'Education': [1, 1, 1, 1, 0, 0, 0, 0, 1, 0, 0, 1, 1, 1, 1, 1],\n",
              " 'Gender': ['Male',\n",
              "  'Male',\n",
              "  'Male',\n",
              "  'Male',\n",
              "  'Male',\n",
              "  'Male',\n",
              "  'Female',\n",
              "  'Male',\n",
              "  'Male',\n",
              "  'Male',\n",
              "  'Male',\n",
              "  'Male',\n",
              "  'Male',\n",
              "  'Male',\n",
              "  'Female',\n",
              "  'Male'],\n",
              " 'LoanAmount': ['110',\n",
              "  '126',\n",
              "  '208',\n",
              "  '100',\n",
              "  '78',\n",
              "  '152',\n",
              "  '59',\n",
              "  '147',\n",
              "  '280',\n",
              "  '123',\n",
              "  '90',\n",
              "  '162',\n",
              "  '40',\n",
              "  '166',\n",
              "  '124',\n",
              "  '131'],\n",
              " 'Loan_ID': ['LP001015',\n",
              "  'LP001022',\n",
              "  'LP001031',\n",
              "  'LP001035',\n",
              "  'LP001051',\n",
              "  'LP001054',\n",
              "  'LP001055',\n",
              "  'LP001056',\n",
              "  'LP001059',\n",
              "  'LP001067',\n",
              "  'LP001078',\n",
              "  'LP001082',\n",
              "  'LP001083',\n",
              "  'LP001094',\n",
              "  'LP001096',\n",
              "  'LP001099'],\n",
              " 'Married': ['Yes',\n",
              "  'Yes',\n",
              "  'Yes',\n",
              "  'Yes',\n",
              "  'No',\n",
              "  'Yes',\n",
              "  'No',\n",
              "  'Yes',\n",
              "  'Yes',\n",
              "  'No',\n",
              "  'No',\n",
              "  'Yes',\n",
              "  'No',\n",
              "  'Yes',\n",
              "  'No',\n",
              "  'No'],\n",
              " 'Property_Area': ['Urban',\n",
              "  'Urban',\n",
              "  'Urban',\n",
              "  'Urban',\n",
              "  'Urban',\n",
              "  'Urban',\n",
              "  'Semiurban',\n",
              "  'Rural',\n",
              "  'Urban',\n",
              "  'Semiurban',\n",
              "  'Urban',\n",
              "  'Semiurban',\n",
              "  'Urban',\n",
              "  'Semiurban',\n",
              "  'Semiurban',\n",
              "  'Urban']}"
            ]
          },
          "metadata": {
            "tags": []
          }
        }
      ]
    },
    {
      "metadata": {
        "id": "DJdnEl_akar8",
        "colab_type": "text"
      },
      "cell_type": "markdown",
      "source": [
        "##### 3) Find the minimum and maximum value of *Loan Amount*. Also calculate the mean *Loan Amount*\n"
      ]
    },
    {
      "metadata": {
        "id": "MwbTlonpkar9",
        "colab_type": "code",
        "colab": {
          "base_uri": "https://localhost:8080/",
          "height": 68
        },
        "outputId": "cd244bad-661c-468e-a5d4-2b537dedfc2d"
      },
      "cell_type": "code",
      "source": [
        "temp = data_clean['LoanAmount']\n",
        "display('Max is '+ max(temp))\n",
        "display('Min is '+ min(temp))  \n",
        "sum=0\n",
        "for i in temp:\n",
        "  sum=sum+int(i)\n",
        "display(sum/len(temp))"
      ],
      "execution_count": 117,
      "outputs": [
        {
          "output_type": "display_data",
          "data": {
            "text/plain": [
              "'Max is 90'"
            ]
          },
          "metadata": {
            "tags": []
          }
        },
        {
          "output_type": "display_data",
          "data": {
            "text/plain": [
              "'Min is 100'"
            ]
          },
          "metadata": {
            "tags": []
          }
        },
        {
          "output_type": "display_data",
          "data": {
            "text/plain": [
              "131"
            ]
          },
          "metadata": {
            "tags": []
          }
        }
      ]
    },
    {
      "metadata": {
        "id": "Zihk6rNmKq-l",
        "colab_type": "code",
        "colab": {}
      },
      "cell_type": "code",
      "source": [
        ""
      ],
      "execution_count": 0,
      "outputs": []
    }
  ]
}