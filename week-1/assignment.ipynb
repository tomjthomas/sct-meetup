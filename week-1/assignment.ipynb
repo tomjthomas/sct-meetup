{
  "nbformat": 4,
  "nbformat_minor": 0,
  "metadata": {
    "colab": {
      "name": "assignment.ipynb",
      "version": "0.3.2",
      "provenance": [],
      "toc_visible": true
    },
    "kernelspec": {
      "display_name": "Python [conda env:pytorch]",
      "language": "python",
      "name": "conda-env-pytorch-py"
    }
  },
  "cells": [
    {
      "metadata": {
        "id": "IvB4np_skarW",
        "colab_type": "text"
      },
      "cell_type": "markdown",
      "source": [
        "### Assignment - Intro to Python and Data Structures\n",
        "The assignment is for students to get a feel of the lesson discussed this week. You are free to ask any doubts regarding working out any questions in the group. Also, updating the worked out notebook on Github is very much engaged, be sure to mention School of AI, Trivandrum. Additional recognition for students who document the work using *markdown*."
      ]
    },
    {
      "metadata": {
        "id": "Q1F4rPuEkare",
        "colab_type": "text"
      },
      "cell_type": "markdown",
      "source": [
        "##### 1) Read the contents of test.csv "
      ]
    },
    {
      "metadata": {
        "id": "HO2a7kGAkarh",
        "colab_type": "code",
        "colab": {}
      },
      "cell_type": "code",
      "source": [
        "with open('test.csv', 'r') as file: \n",
        "    test=file.read()\n",
        "file.close()\n",
        "data_split=list()\n",
        "data=test.split('\\n')\n",
        "for i in data:\n",
        "  i=i.split(',')\n",
        "  data_split.append(i)\n",
        "data_clean=dict.fromkeys(data_split[0],list())\n",
        "for i in range(len(data_split[0])):\n",
        "  temp=list()\n",
        "  for row in data_split[1:]:\n",
        "    temp.append(row[i])\n",
        "  data_clean[data_split[0][i]]=temp\n",
        "    \n",
        "display(data_clean)\n"
      ],
      "execution_count": 0,
      "outputs": []
    },
    {
      "metadata": {
        "id": "y70gT-khkarx",
        "colab_type": "text"
      },
      "cell_type": "markdown",
      "source": [
        "##### 2) Replace the *Graduate* and *Not Graduate* in the Education column by 1 and 0 respectively"
      ]
    },
    {
      "metadata": {
        "id": "__FvVId3kar1",
        "colab_type": "code",
        "colab": {}
      },
      "cell_type": "code",
      "source": [
        "temp=data_clean['Education']\n",
        "for i,edu in enumerate(temp):\n",
        "  if edu == 'Graduate':\n",
        "    temp[i]=1\n",
        "  elif edu == 'Not Graduate':\n",
        "    temp[i]=0\n",
        "display(data_clean)\n",
        "    "
      ],
      "execution_count": 0,
      "outputs": []
    },
    {
      "metadata": {
        "id": "DJdnEl_akar8",
        "colab_type": "text"
      },
      "cell_type": "markdown",
      "source": [
        "##### 3) Find the minimum and maximum value of *Loan Amount*. Also calculate the mean *Loan Amount*\n"
      ]
    },
    {
      "metadata": {
        "id": "MwbTlonpkar9",
        "colab_type": "code",
        "colab": {}
      },
      "cell_type": "code",
      "source": [
        "temp = data_clean['LoanAmount']\n",
        "display('Max is '+ max(temp))\n",
        "display('Min is '+ min(temp))  \n",
        "sum=0\n",
        "for i in temp:\n",
        "  sum=sum+int(i)\n",
        "display(sum/len(temp))"
      ],
      "execution_count": 0,
      "outputs": []
    },
    {
      "metadata": {
        "id": "Zihk6rNmKq-l",
        "colab_type": "code",
        "colab": {}
      },
      "cell_type": "code",
      "source": [
        ""
      ],
      "execution_count": 0,
      "outputs": []
    }
  ]
}